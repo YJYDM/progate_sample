{
  "nbformat": 4,
  "nbformat_minor": 0,
  "metadata": {
    "colab": {
      "name": "作業用.ipynb",
      "provenance": [],
      "collapsed_sections": [],
      "authorship_tag": "ABX9TyNAHQB1kjHNJ79r/Ljh/mFl",
      "include_colab_link": true
    },
    "kernelspec": {
      "name": "python3",
      "display_name": "Python 3"
    },
    "accelerator": "GPU"
  },
  "cells": [
    {
      "cell_type": "markdown",
      "metadata": {
        "id": "view-in-github",
        "colab_type": "text"
      },
      "source": [
        "<a href=\"https://colab.research.google.com/github/YJYDM/progate_sample/blob/master/%E4%BD%9C%E6%A5%AD%E7%94%A8.ipynb\" target=\"_parent\"><img src=\"https://colab.research.google.com/assets/colab-badge.svg\" alt=\"Open In Colab\"/></a>"
      ]
    },
    {
      "cell_type": "code",
      "metadata": {
        "id": "Rmko2dZL0jKh",
        "colab": {
          "base_uri": "https://localhost:8080/"
        },
        "outputId": "36029977-88b4-4017-c013-422cf8716d51"
      },
      "source": [
        "print('Hello world!!')"
      ],
      "execution_count": 56,
      "outputs": [
        {
          "output_type": "stream",
          "text": [
            "Hello world!!\n"
          ],
          "name": "stdout"
        }
      ]
    },
    {
      "cell_type": "markdown",
      "metadata": {
        "id": "9SUATsl50z70"
      },
      "source": [
        ""
      ]
    },
    {
      "cell_type": "code",
      "metadata": {
        "id": "sa2Y2PRM02NH"
      },
      "source": [
        "#from google.colab import drive\r\n",
        "#drive.mount('/content/drive')"
      ],
      "execution_count": 57,
      "outputs": []
    },
    {
      "cell_type": "code",
      "metadata": {
        "id": "2gZwcyXG364C"
      },
      "source": [
        "import numpy as np\r\n"
      ],
      "execution_count": 58,
      "outputs": []
    },
    {
      "cell_type": "markdown",
      "metadata": {
        "id": "hKvsnxIx4CF4"
      },
      "source": [
        "|$n$||$x_{n}$||$t_{n}$|\r\n",
        "|:---||:---||:---|\r\n",
        "|1||20||60000|\r\n",
        "|2||40||115000|\r\n",
        "|3||60||155000|"
      ]
    },
    {
      "cell_type": "code",
      "metadata": {
        "colab": {
          "base_uri": "https://localhost:8080/"
        },
        "id": "bNxF-H-N5Gx-",
        "outputId": "d2dfe51a-88ae-4e60-d967-b240d1f95f72"
      },
      "source": [
        "x = np.array([20,40,50,60,70])\r\n",
        "x"
      ],
      "execution_count": 59,
      "outputs": [
        {
          "output_type": "execute_result",
          "data": {
            "text/plain": [
              "array([20, 40, 50, 60, 70])"
            ]
          },
          "metadata": {
            "tags": []
          },
          "execution_count": 59
        }
      ]
    },
    {
      "cell_type": "code",
      "metadata": {
        "colab": {
          "base_uri": "https://localhost:8080/"
        },
        "id": "DWuGuYP65gvz",
        "outputId": "c4aa03f4-f8b4-4631-8ab2-f7c2a030ce27"
      },
      "source": [
        "type(x)"
      ],
      "execution_count": 60,
      "outputs": [
        {
          "output_type": "execute_result",
          "data": {
            "text/plain": [
              "numpy.ndarray"
            ]
          },
          "metadata": {
            "tags": []
          },
          "execution_count": 60
        }
      ]
    },
    {
      "cell_type": "code",
      "metadata": {
        "colab": {
          "base_uri": "https://localhost:8080/"
        },
        "id": "kuowG2l35jtL",
        "outputId": "a31a45fc-f699-4806-b83c-4574f2e3ea93"
      },
      "source": [
        "t = np.array([60000,115000,130100,155000,179900])\r\n",
        "t"
      ],
      "execution_count": 61,
      "outputs": [
        {
          "output_type": "execute_result",
          "data": {
            "text/plain": [
              "array([ 60000, 115000, 130100, 155000, 179900])"
            ]
          },
          "metadata": {
            "tags": []
          },
          "execution_count": 61
        }
      ]
    },
    {
      "cell_type": "code",
      "metadata": {
        "colab": {
          "base_uri": "https://localhost:8080/"
        },
        "id": "BKDQa3LR51xA",
        "outputId": "08e74224-42d4-411b-89b9-53ce6f01d1f8"
      },
      "source": [
        "x_mean = x.mean()\r\n",
        "x_mean"
      ],
      "execution_count": 62,
      "outputs": [
        {
          "output_type": "execute_result",
          "data": {
            "text/plain": [
              "48.0"
            ]
          },
          "metadata": {
            "tags": []
          },
          "execution_count": 62
        }
      ]
    },
    {
      "cell_type": "code",
      "metadata": {
        "colab": {
          "base_uri": "https://localhost:8080/"
        },
        "id": "7lEVfyJJ58d-",
        "outputId": "d9cbaf4c-0d0e-4a20-df7a-357e3fa52837"
      },
      "source": [
        "t_mean = t.mean()\r\n",
        "t_mean"
      ],
      "execution_count": 63,
      "outputs": [
        {
          "output_type": "execute_result",
          "data": {
            "text/plain": [
              "128000.0"
            ]
          },
          "metadata": {
            "tags": []
          },
          "execution_count": 63
        }
      ]
    },
    {
      "cell_type": "code",
      "metadata": {
        "id": "QWzgknxk6GKM"
      },
      "source": [
        "xc = x - x_mean"
      ],
      "execution_count": 64,
      "outputs": []
    },
    {
      "cell_type": "code",
      "metadata": {
        "id": "Z5D2YWZe6Su4"
      },
      "source": [
        "tc = t - t_mean"
      ],
      "execution_count": 65,
      "outputs": []
    },
    {
      "cell_type": "markdown",
      "metadata": {
        "id": "JPgJtANh6dK4"
      },
      "source": [
        "$$\r\n",
        "w = \\dfrac{\\sum_{n=1}^{N}x_{n}t_{n}}{\\sum_{n=1}^{N} x_{m}^{2}}\r\n",
        "$$\r\n"
      ]
    },
    {
      "cell_type": "code",
      "metadata": {
        "colab": {
          "base_uri": "https://localhost:8080/"
        },
        "id": "yZX6Thsx8l0E",
        "outputId": "e2b958e8-6850-41f5-b265-9293bdbc9c08"
      },
      "source": [
        "xc * tc"
      ],
      "execution_count": 66,
      "outputs": [
        {
          "output_type": "execute_result",
          "data": {
            "text/plain": [
              "array([1904000.,  104000.,    4200.,  324000., 1141800.])"
            ]
          },
          "metadata": {
            "tags": []
          },
          "execution_count": 66
        }
      ]
    },
    {
      "cell_type": "code",
      "metadata": {
        "colab": {
          "base_uri": "https://localhost:8080/"
        },
        "id": "w8KS9A4x9PY-",
        "outputId": "755403d8-b415-4824-bdc5-ab6aa462ca6d"
      },
      "source": [
        "(xc * tc).sum()"
      ],
      "execution_count": 67,
      "outputs": [
        {
          "output_type": "execute_result",
          "data": {
            "text/plain": [
              "3478000.0"
            ]
          },
          "metadata": {
            "tags": []
          },
          "execution_count": 67
        }
      ]
    },
    {
      "cell_type": "code",
      "metadata": {
        "id": "mnT5xalbA3XS",
        "colab": {
          "base_uri": "https://localhost:8080/"
        },
        "outputId": "7b640135-8b2a-4db0-ed27-955eb61beef9"
      },
      "source": [
        "w = (xc * tc).sum() / (xc * xc).sum()\r\n",
        "w"
      ],
      "execution_count": 68,
      "outputs": [
        {
          "output_type": "execute_result",
          "data": {
            "text/plain": [
              "2350.0"
            ]
          },
          "metadata": {
            "tags": []
          },
          "execution_count": 68
        }
      ]
    },
    {
      "cell_type": "markdown",
      "metadata": {
        "id": "EpJnXxmWB0s2"
      },
      "source": [
        "$$\r\n",
        "y_{c} = w x_{c}\r\n",
        "$$\r\n",
        "$$\r\n",
        "y_{c} = w x_{c}\r\n",
        "$$"
      ]
    },
    {
      "cell_type": "code",
      "metadata": {
        "colab": {
          "base_uri": "https://localhost:8080/"
        },
        "id": "4uzNNxzpBxLY",
        "outputId": "3c990383-cd66-441d-f192-6550f7c12eee"
      },
      "source": [
        "x = 65\r\n",
        "y = w * (x- x_mean) + t_mean\r\n",
        "y"
      ],
      "execution_count": 69,
      "outputs": [
        {
          "output_type": "execute_result",
          "data": {
            "text/plain": [
              "167950.0"
            ]
          },
          "metadata": {
            "tags": []
          },
          "execution_count": 69
        }
      ]
    },
    {
      "cell_type": "markdown",
      "metadata": {
        "id": "w5xXMqhlBqxr"
      },
      "source": [
        ""
      ]
    }
  ]
}